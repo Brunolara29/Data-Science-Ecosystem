{
 "cells": [
  {
   "cell_type": "markdown",
   "id": "8fbfc413-1b94-442c-99bf-0c93fcbfad60",
   "metadata": {
    "tags": []
   },
   "source": [
    "# Data Science Tools and Ecosystem"
   ]
  },
  {
   "cell_type": "markdown",
   "id": "38e3b48f-7729-4601-97a7-30c4bf6b1bcd",
   "metadata": {
    "tags": []
   },
   "source": [
    "# Introduction: In this notebook, Data Science Tools and Ecosystem are summarized."
   ]
  },
  {
   "cell_type": "markdown",
   "id": "26213d38-c5db-4c19-8859-477356742240",
   "metadata": {
    "tags": []
   },
   "source": [
    "# __Objectives:__\n",
    "\n",
    "* Use Jupyter correctly\n",
    "* Understand R Basics\n",
    "* Learn about GitHub"
   ]
  },
  {
   "cell_type": "markdown",
   "id": "510284ac-ae8f-4785-9c3a-4c2dd80c3712",
   "metadata": {
    "tags": []
   },
   "source": [
    "## Author\n",
    "## Bruno"
   ]
  },
  {
   "cell_type": "markdown",
   "id": "88882ed4-0a58-4a07-ad7c-02b06aa979a3",
   "metadata": {
    "tags": []
   },
   "source": [
    "# Some of the popular languages that Data Scientists use are:\n",
    "1. Python\n",
    "2. C#\n",
    "3. Ruby"
   ]
  },
  {
   "cell_type": "markdown",
   "id": "11c0e2c9-c210-4a8d-a697-92172745d4c0",
   "metadata": {},
   "source": [
    "# Some of the commonly used libraries used by Data Scientists include:\n",
    "1. NumPy\n",
    "2. TensorFlow\n",
    "3. PyTorch\n",
    "4. Statsmodels"
   ]
  },
  {
   "cell_type": "markdown",
   "id": "502d229c-4919-40c7-b7fe-0b2c74273f7d",
   "metadata": {
    "tags": []
   },
   "source": [
    "| Data Science Tools |\n",
    "|:---------|\n",
    "| Rstudio   |\n",
    "| Jupyter Notebook   |\n",
    "| Zeppelin Notebook   |"
   ]
  },
  {
   "cell_type": "markdown",
   "id": "14afd9a9-513f-4bc5-a159-cf1c25d0646d",
   "metadata": {},
   "source": [
    "### Below are a few examples of evaluating arithmetic expressions in Python"
   ]
  },
  {
   "cell_type": "code",
   "execution_count": 47,
   "id": "b5e460c6-1b5e-4d70-9c87-b316fd8d5fde",
   "metadata": {
    "tags": []
   },
   "outputs": [
    {
     "data": {
      "text/plain": [
       "17"
      ]
     },
     "execution_count": 47,
     "metadata": {},
     "output_type": "execute_result"
    }
   ],
   "source": [
    "(3*4)+5\n",
    "#This a simple arithmetic expression to mutiply then add integers"
   ]
  },
  {
   "cell_type": "code",
   "execution_count": 46,
   "id": "050d7866-936a-41ed-aaf3-8f5633f81d07",
   "metadata": {
    "tags": []
   },
   "outputs": [
    {
     "data": {
      "text/plain": [
       "3.3333333333333335"
      ]
     },
     "execution_count": 46,
     "metadata": {},
     "output_type": "execute_result"
    }
   ],
   "source": [
    "200/60\n",
    "# This will convert 200 minutes to hours by diving by 60"
   ]
  },
  {
   "cell_type": "code",
   "execution_count": null,
   "id": "0c01cafb-7bf6-476e-888a-0e612438c2d8",
   "metadata": {},
   "outputs": [],
   "source": []
  }
 ],
 "metadata": {
  "kernelspec": {
   "display_name": "Python",
   "language": "python",
   "name": "conda-env-python-py"
  },
  "language_info": {
   "codemirror_mode": {
    "name": "ipython",
    "version": 3
   },
   "file_extension": ".py",
   "mimetype": "text/x-python",
   "name": "python",
   "nbconvert_exporter": "python",
   "pygments_lexer": "ipython3",
   "version": "3.7.12"
  }
 },
 "nbformat": 4,
 "nbformat_minor": 5
}
